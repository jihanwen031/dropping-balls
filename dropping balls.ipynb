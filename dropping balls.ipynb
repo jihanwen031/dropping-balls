{
 "cells": [
  {
   "cell_type": "code",
   "execution_count": 1,
   "id": "f194c362-d649-42f6-ba02-7971af87eb88",
   "metadata": {},
   "outputs": [
    {
     "name": "stdout",
     "output_type": "stream",
     "text": [
      "(299.609375, 25.36615955113682, 0.1953125)\n"
     ]
    }
   ],
   "source": [
    "import math #导入需要的平方根数据库\n",
    "def calheight(n):\n",
    "    #定义函数其变量为下落次数\n",
    "    path=0\n",
    "    height=100\n",
    "    g=9.8\n",
    "    total_time=0\n",
    "    #赋值所有需要使用的\n",
    "    for i in range(1,n+1):\n",
    "        if i == 1:\n",
    "            path = height\n",
    "            time=math.sqrt(2*height/g)#第一次下落时，仅完成了一次下落，所以距离等于初始高度，时间为下落的时间\n",
    "        else:\n",
    "            path += height*2\n",
    "            time = 2 * math.sqrt(2 * height / g)#第二次下落时，包含第一次上升和第二次下落，所以距离等于两倍的下落高度，时间为下落和上升的时间，由于自由落体公式，两者相等\n",
    "        height = height/2#每次下落距离变为一半\n",
    "        total_time += time#累加时间\n",
    "    return path,total_time,height*2#返回时间和距离,最后一次反弹的高度\n",
    "print (calheight(10))"
   ]
  },
  {
   "cell_type": "code",
   "execution_count": null,
   "id": "3f09fa10-142a-4adb-a157-c78010dd7fa4",
   "metadata": {},
   "outputs": [],
   "source": []
  }
 ],
 "metadata": {
  "kernelspec": {
   "display_name": "Python 3 (ipykernel)",
   "language": "python",
   "name": "python3"
  },
  "language_info": {
   "codemirror_mode": {
    "name": "ipython",
    "version": 3
   },
   "file_extension": ".py",
   "mimetype": "text/x-python",
   "name": "python",
   "nbconvert_exporter": "python",
   "pygments_lexer": "ipython3",
   "version": "3.12.7"
  }
 },
 "nbformat": 4,
 "nbformat_minor": 5
}
